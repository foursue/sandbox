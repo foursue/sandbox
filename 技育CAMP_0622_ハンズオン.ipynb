{
  "nbformat": 4,
  "nbformat_minor": 0,
  "metadata": {
    "colab": {
      "provenance": [],
      "authorship_tag": "ABX9TyOzOP9d8b4kWvb5oa+4A9Cm",
      "include_colab_link": true
    },
    "kernelspec": {
      "name": "python3",
      "display_name": "Python 3"
    },
    "language_info": {
      "name": "python"
    }
  },
  "cells": [
    {
      "cell_type": "markdown",
      "metadata": {
        "id": "view-in-github",
        "colab_type": "text"
      },
      "source": [
        "<a href=\"https://colab.research.google.com/github/foursue/sandbox/blob/main/%E6%8A%80%E8%82%B2CAMP_0622_%E3%83%8F%E3%83%B3%E3%82%BA%E3%82%AA%E3%83%B3.ipynb\" target=\"_parent\"><img src=\"https://colab.research.google.com/assets/colab-badge.svg\" alt=\"Open In Colab\"/></a>"
      ]
    },
    {
      "cell_type": "markdown",
      "source": [
        "# 手を動かして覚えるSQL〜CRUD操作編〜\n",
        "\n",
        "技育CAMPアカデミア(２０２３年６月２２日)にて実施するハンズオンのColab用のノートブックです\n",
        "Colabの実行環境さえあれば実行できるように作ってあります。\n",
        "Googleドライブにsqliteのデータベースを保存するため、マウント実行時に権限の確認がでますので、動かすには許可をする必要があるので注意してください。\n",
        "\n",
        "紹介ページ: https://talent.supporterz.jp/events/f4ee62d4-5005-44a0-8c69-fc98d860a851/"
      ],
      "metadata": {
        "id": "TYAkCUDEjYpO"
      }
    },
    {
      "cell_type": "code",
      "execution_count": 19,
      "metadata": {
        "colab": {
          "base_uri": "https://localhost:8080/"
        },
        "id": "EQ92AQ4pIyE3",
        "outputId": "fed04877-09d6-44bd-a250-6038dbd53819"
      },
      "outputs": [
        {
          "output_type": "stream",
          "name": "stdout",
          "text": [
            "Mounted at /content/drive\n"
          ]
        }
      ],
      "source": [
        "# ドライブのマウント\n",
        "\n",
        "import sqlite3\n",
        "# Googleドライブのマウント\n",
        "from google.colab import drive\n",
        "drive.mount('/content/drive', force_remount=True)\n",
        "colab_dir = \"/content/drive/MyDrive/\"\n",
        "db_name = \"test\"\n",
        "conn = sqlite3.connect(colab_dir + db_name + \".db\")"
      ]
    },
    {
      "cell_type": "code",
      "source": [
        "# テーブルを作ろう\n",
        "# 構文の例\n",
        "# CREATE TABLE [IF NOT EXISTS] [schema_name].table_name (\n",
        "# \tcolumn_1 data_type PRIMARY KEY,\n",
        "#   column_2 data_type NOT NULL,\n",
        "# \tcolumn_3 data_type DEFAULT 0,\n",
        "# \ttable_constraints\n",
        "# ) [WITHOUT ROWID];\n",
        "# https://www.sqlite.org/lang_createtable.html\n",
        "\n",
        "sql =  \"\"\"\\\n",
        "CREATE TABLE IF NOT EXISTS testtable (\n",
        "  id INTEGER PRIMARY KEY AUTOINCREMENT,\n",
        "  name STRING,\n",
        "  age INTEGER\n",
        ")\n",
        "\"\"\"\n",
        "\n",
        "cur = conn.cursor()\n",
        "cur.execute(sql)"
      ],
      "metadata": {
        "colab": {
          "base_uri": "https://localhost:8080/"
        },
        "id": "d8ZFnh2PJX21",
        "outputId": "3d4b5694-59fb-4121-efaa-424a74ead64d"
      },
      "execution_count": 4,
      "outputs": [
        {
          "output_type": "execute_result",
          "data": {
            "text/plain": [
              "<sqlite3.Cursor at 0x7ff1f9d59940>"
            ]
          },
          "metadata": {},
          "execution_count": 4
        }
      ]
    },
    {
      "cell_type": "code",
      "source": [
        "# 検索しよう(最初はデータが登録されていないので、何も表示されない)\n",
        "# SELECT 文\n",
        "# https://www.sqlite.org/lang_select.html\n",
        "\n",
        "sql =  \"\"\"\\\n",
        "SELECT * FROM testtable\n",
        "\"\"\"\n",
        "\n",
        "cur = conn.cursor()\n",
        "cur.execute(sql)\n",
        "\n",
        "for row in cur:\n",
        "  print(row)"
      ],
      "metadata": {
        "colab": {
          "base_uri": "https://localhost:8080/",
          "height": 240
        },
        "id": "aEvuB9_SMpHq",
        "outputId": "50ae17d1-26ed-4169-83f5-31561403a8be"
      },
      "execution_count": 20,
      "outputs": [
        {
          "output_type": "error",
          "ename": "OperationalError",
          "evalue": "ignored",
          "traceback": [
            "\u001b[0;31m---------------------------------------------------------------------------\u001b[0m",
            "\u001b[0;31mOperationalError\u001b[0m                          Traceback (most recent call last)",
            "\u001b[0;32m<ipython-input-20-af316d9322ee>\u001b[0m in \u001b[0;36m<cell line: 10>\u001b[0;34m()\u001b[0m\n\u001b[1;32m      8\u001b[0m \u001b[0;34m\u001b[0m\u001b[0m\n\u001b[1;32m      9\u001b[0m \u001b[0mcur\u001b[0m \u001b[0;34m=\u001b[0m \u001b[0mconn\u001b[0m\u001b[0;34m.\u001b[0m\u001b[0mcursor\u001b[0m\u001b[0;34m(\u001b[0m\u001b[0;34m)\u001b[0m\u001b[0;34m\u001b[0m\u001b[0;34m\u001b[0m\u001b[0m\n\u001b[0;32m---> 10\u001b[0;31m \u001b[0mcur\u001b[0m\u001b[0;34m.\u001b[0m\u001b[0mexecute\u001b[0m\u001b[0;34m(\u001b[0m\u001b[0msql\u001b[0m\u001b[0;34m)\u001b[0m\u001b[0;34m\u001b[0m\u001b[0;34m\u001b[0m\u001b[0m\n\u001b[0m\u001b[1;32m     11\u001b[0m \u001b[0;34m\u001b[0m\u001b[0m\n\u001b[1;32m     12\u001b[0m \u001b[0;32mfor\u001b[0m \u001b[0mrow\u001b[0m \u001b[0;32min\u001b[0m \u001b[0mcur\u001b[0m\u001b[0;34m:\u001b[0m\u001b[0;34m\u001b[0m\u001b[0;34m\u001b[0m\u001b[0m\n",
            "\u001b[0;31mOperationalError\u001b[0m: no such table: testtable"
          ]
        }
      ]
    },
    {
      "cell_type": "code",
      "source": [
        "# データを入れよう\n",
        "# INSERT 文\n",
        "# https://www.sqlite.org/lang_delete.html\n",
        "\n",
        "sql =  \"\"\"\\\n",
        "INSERT INTO testtable(\n",
        "  name,\n",
        "  age\n",
        ") VALUES(\n",
        "  \"yamada\",\n",
        "  20\n",
        ")\n",
        "\"\"\"\n",
        "\n",
        "cur = conn.cursor()\n",
        "cur.execute(sql)\n",
        "conn.commit()"
      ],
      "metadata": {
        "id": "8XsLQIqdNZ-B"
      },
      "execution_count": 8,
      "outputs": []
    },
    {
      "cell_type": "code",
      "source": [
        "# たくさんデータを入れよう\n",
        "# 複数データのINSERT文\n",
        "# https://docs.python.org/ja/3/library/sqlite3.html#sqlite3.Cursor.executemany\n",
        "\n",
        "rows = [\n",
        "    (\"watanabe\", 20),\n",
        "    (\"tanaka\", 19),\n",
        "    (\"suzuki\", 22),\n",
        "]\n",
        "\n",
        "sql = \"\"\"\\\n",
        "INSERT INTO testtable(name, age) VALUES(?, ?)\n",
        "\"\"\"\n",
        "\n",
        "cur = conn.cursor()\n",
        "cur.executemany(sql, rows)\n",
        "conn.commit()"
      ],
      "metadata": {
        "id": "JkHc5k0sROhq"
      },
      "execution_count": 10,
      "outputs": []
    },
    {
      "cell_type": "code",
      "source": [
        "# データを変更しよう\n",
        "# UPDATE 文\n",
        "# https://www.sqlite.org/lang_update.html\n",
        "\n",
        "sql = \"\"\"\\\n",
        "UPDATE testtable SET\n",
        "  age = 21\n",
        "WHERE name = 'yamada'\n",
        "\"\"\"\n",
        "\n",
        "cur = conn.cursor()\n",
        "cur.execute(sql)\n",
        "conn.commit()"
      ],
      "metadata": {
        "id": "VL5Gg6j1QLH7"
      },
      "execution_count": 12,
      "outputs": []
    },
    {
      "cell_type": "code",
      "source": [
        "# データを消そう\n",
        "# DELETE 文\n",
        "# https://www.sqlite.org/lang_delete.html\n",
        "\n",
        "sql =  \"\"\"\\\n",
        "DELETE FROM testtable\n",
        "\"\"\"\n",
        "\n",
        "cur = conn.cursor()\n",
        "cur.execute(sql)\n",
        "conn.commit()"
      ],
      "metadata": {
        "id": "aB2zMKdaPeva"
      },
      "execution_count": 14,
      "outputs": []
    },
    {
      "cell_type": "code",
      "source": [
        "# 検索条件を指定しよう\n",
        "# SELECT文 WHERE句\n",
        "# https://www.sqlite.org/lang_select.html\n",
        "\n",
        "sql =  \"\"\"\\\n",
        "SELECT * FROM testtable\n",
        "WHERE age = 20\n",
        "\"\"\"\n",
        "\n",
        "cur = conn.cursor()\n",
        "cur.execute(sql)\n",
        "\n",
        "for row in cur:\n",
        "  print(row)\n"
      ],
      "metadata": {
        "id": "7dclhhKSSVL8"
      },
      "execution_count": 16,
      "outputs": []
    },
    {
      "cell_type": "code",
      "source": [
        "# テーブルを壊そう\n",
        "# 構文の例\n",
        "# DROP TABLE [IF EXISTS] [shcema_name].table_name\n",
        "# https://www.sqlite.org/lang_droptable.html\n",
        "\n",
        "sql = \"\"\"\\\n",
        "DROP TABLE testtable\n",
        "\"\"\"\n",
        "\n",
        "cur = conn.cursor()\n",
        "cur.execute(sql)"
      ],
      "metadata": {
        "colab": {
          "base_uri": "https://localhost:8080/"
        },
        "id": "pcxmKwPuJX82",
        "outputId": "14e875c1-4c66-4437-ff40-3ade31601694"
      },
      "execution_count": 17,
      "outputs": [
        {
          "output_type": "execute_result",
          "data": {
            "text/plain": [
              "<sqlite3.Cursor at 0x7ff1f9d5a1c0>"
            ]
          },
          "metadata": {},
          "execution_count": 17
        }
      ]
    },
    {
      "cell_type": "code",
      "source": [
        "# コネクションを切ろう\n",
        "# https://docs.python.org/ja/3/library/sqlite3.html#sqlite3.Connection.close\n",
        "\n",
        "conn.close()"
      ],
      "metadata": {
        "id": "3sXz_zOlXDqE"
      },
      "execution_count": 21,
      "outputs": []
    },
    {
      "cell_type": "markdown",
      "source": [
        "# Chinook DB でもう少し複雑なSQLをやろう"
      ],
      "metadata": {
        "id": "Z7BSQj_CVPTN"
      }
    },
    {
      "cell_type": "code",
      "source": [
        "# データを持ってくる\n",
        "# https://www.sqlitetutorial.net/sqlite-sample-database/\n",
        "# https://github.com/lerocha/chinook-database\n",
        "import urllib.request\n",
        "url='https://github.com/lerocha/chinook-database/raw/master/ChinookDatabase/DataSources/Chinook_Sqlite.sqlite'\n",
        "colab_dir = \"/content/drive/MyDrive/\"\n",
        "save_name='Chinook_Sqlite.sqlite'\n",
        "\n",
        "urllib.request.urlretrieve(url, colab_dir + save_name)"
      ],
      "metadata": {
        "colab": {
          "base_uri": "https://localhost:8080/"
        },
        "id": "ig14WGd7WCHK",
        "outputId": "c60fc065-f739-4e85-f1ef-17524c2d58ea"
      },
      "execution_count": 22,
      "outputs": [
        {
          "output_type": "execute_result",
          "data": {
            "text/plain": [
              "('/content/drive/MyDrive/Chinook_Sqlite.sqlite',\n",
              " <http.client.HTTPMessage at 0x7ff1f9d94190>)"
            ]
          },
          "metadata": {},
          "execution_count": 22
        }
      ]
    },
    {
      "cell_type": "markdown",
      "source": [
        "![chinook-model.png](data:image/png;base64,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)\n",
        "https://github.com/tharidlynn/chinook-etl"
      ],
      "metadata": {
        "id": "2g6xINQoh4kK"
      }
    },
    {
      "cell_type": "code",
      "source": [
        "import sqlite3\n",
        "# Googleドライブのマウント\n",
        "from google.colab import drive\n",
        "drive.mount('/content/drive', force_remount=True)\n",
        "colab_dir = \"/content/drive/MyDrive/\"\n",
        "save_name='Chinook_Sqlite.sqlite'\n",
        "conn = sqlite3.connect(colab_dir + save_name)"
      ],
      "metadata": {
        "id": "GEn1vtiBYSvX",
        "colab": {
          "base_uri": "https://localhost:8080/"
        },
        "outputId": "0ffb54a9-e10f-4382-e068-ed02852c0a93"
      },
      "execution_count": 23,
      "outputs": [
        {
          "output_type": "stream",
          "name": "stdout",
          "text": [
            "Mounted at /content/drive\n"
          ]
        }
      ]
    },
    {
      "cell_type": "code",
      "source": [
        "# テーブル名の一覧\n",
        "# テーブル名などに困ったら元になってるSQLを読もう\n",
        "# https://github.com/lerocha/chinook-database/blob/master/ChinookDatabase/DataSources/Chinook_Sqlite.sql\n",
        "\n",
        "sql =  \"\"\"\\\n",
        "select name from sqlite_master\n",
        "where type = 'table'\n",
        ";\n",
        "\"\"\"\n",
        "\n",
        "cur = conn.cursor()\n",
        "cur.execute(sql)\n",
        "\n",
        "for row in cur:\n",
        "  print(row)"
      ],
      "metadata": {
        "colab": {
          "base_uri": "https://localhost:8080/"
        },
        "id": "zFrwjhqGZjSQ",
        "outputId": "78b377a5-56b8-4129-93bb-9a5eece69ae8"
      },
      "execution_count": 24,
      "outputs": [
        {
          "output_type": "stream",
          "name": "stdout",
          "text": [
            "('Album',)\n",
            "('Artist',)\n",
            "('Customer',)\n",
            "('Employee',)\n",
            "('Genre',)\n",
            "('Invoice',)\n",
            "('InvoiceLine',)\n",
            "('MediaType',)\n",
            "('Playlist',)\n",
            "('PlaylistTrack',)\n",
            "('Track',)\n"
          ]
        }
      ]
    },
    {
      "cell_type": "code",
      "source": [
        "# 対象テーブルの列名の一覧\n",
        "tablename = \"Employee\"\n",
        "\n",
        "sql =  'SELECT * FROM %s limit 1' % (tablename)\n",
        "\n",
        "cur = conn.cursor()\n",
        "cur.execute(sql)\n",
        "# print(cur.description)\n",
        "for col in cur.description:\n",
        "  print(col[0])"
      ],
      "metadata": {
        "colab": {
          "base_uri": "https://localhost:8080/"
        },
        "id": "FTNb3Ebwa4bq",
        "outputId": "c420b80a-e311-41cb-f7ae-ac362347f2ff"
      },
      "execution_count": 25,
      "outputs": [
        {
          "output_type": "stream",
          "name": "stdout",
          "text": [
            "EmployeeId\n",
            "LastName\n",
            "FirstName\n",
            "Title\n",
            "ReportsTo\n",
            "BirthDate\n",
            "HireDate\n",
            "Address\n",
            "City\n",
            "State\n",
            "Country\n",
            "PostalCode\n",
            "Phone\n",
            "Fax\n",
            "Email\n"
          ]
        }
      ]
    },
    {
      "cell_type": "code",
      "source": [
        "sql =  \"\"\"\\\n",
        "select * from Employee\n",
        ";\n",
        "\"\"\"\n",
        "\n",
        "cur = conn.cursor()\n",
        "cur.execute(sql)\n",
        "\n",
        "for row in cur:\n",
        "  print(row)"
      ],
      "metadata": {
        "colab": {
          "base_uri": "https://localhost:8080/"
        },
        "id": "t3P9f8IlFC0f",
        "outputId": "34916c64-c34d-4dfc-a03d-ad4be58b997a"
      },
      "execution_count": 26,
      "outputs": [
        {
          "output_type": "stream",
          "name": "stdout",
          "text": [
            "(1, 'Adams', 'Andrew', 'General Manager', None, '1962-02-18 00:00:00', '2002-08-14 00:00:00', '11120 Jasper Ave NW', 'Edmonton', 'AB', 'Canada', 'T5K 2N1', '+1 (780) 428-9482', '+1 (780) 428-3457', 'andrew@chinookcorp.com')\n",
            "(2, 'Edwards', 'Nancy', 'Sales Manager', 1, '1958-12-08 00:00:00', '2002-05-01 00:00:00', '825 8 Ave SW', 'Calgary', 'AB', 'Canada', 'T2P 2T3', '+1 (403) 262-3443', '+1 (403) 262-3322', 'nancy@chinookcorp.com')\n",
            "(3, 'Peacock', 'Jane', 'Sales Support Agent', 2, '1973-08-29 00:00:00', '2002-04-01 00:00:00', '1111 6 Ave SW', 'Calgary', 'AB', 'Canada', 'T2P 5M5', '+1 (403) 262-3443', '+1 (403) 262-6712', 'jane@chinookcorp.com')\n",
            "(4, 'Park', 'Margaret', 'Sales Support Agent', 2, '1947-09-19 00:00:00', '2003-05-03 00:00:00', '683 10 Street SW', 'Calgary', 'AB', 'Canada', 'T2P 5G3', '+1 (403) 263-4423', '+1 (403) 263-4289', 'margaret@chinookcorp.com')\n",
            "(5, 'Johnson', 'Steve', 'Sales Support Agent', 2, '1965-03-03 00:00:00', '2003-10-17 00:00:00', '7727B 41 Ave', 'Calgary', 'AB', 'Canada', 'T3B 1Y7', '1 (780) 836-9987', '1 (780) 836-9543', 'steve@chinookcorp.com')\n",
            "(6, 'Mitchell', 'Michael', 'IT Manager', 1, '1973-07-01 00:00:00', '2003-10-17 00:00:00', '5827 Bowness Road NW', 'Calgary', 'AB', 'Canada', 'T3B 0C5', '+1 (403) 246-9887', '+1 (403) 246-9899', 'michael@chinookcorp.com')\n",
            "(7, 'King', 'Robert', 'IT Staff', 6, '1970-05-29 00:00:00', '2004-01-02 00:00:00', '590 Columbia Boulevard West', 'Lethbridge', 'AB', 'Canada', 'T1K 5N8', '+1 (403) 456-9986', '+1 (403) 456-8485', 'robert@chinookcorp.com')\n",
            "(8, 'Callahan', 'Laura', 'IT Staff', 6, '1968-01-09 00:00:00', '2004-03-04 00:00:00', '923 7 ST NW', 'Lethbridge', 'AB', 'Canada', 'T1H 1Y8', '+1 (403) 467-3351', '+1 (403) 467-8772', 'laura@chinookcorp.com')\n"
          ]
        }
      ]
    },
    {
      "cell_type": "code",
      "source": [
        "# 登録されてる社員(Employee)の数を調べてみよう\n",
        "\n",
        "sql =  \"\"\"\\\n",
        "select count(*) from Employee\n",
        ";\n",
        "\"\"\"\n",
        "\n",
        "cur = conn.cursor()\n",
        "cur.execute(sql)\n",
        "\n",
        "for row in cur:\n",
        "  print(row)"
      ],
      "metadata": {
        "colab": {
          "base_uri": "https://localhost:8080/"
        },
        "id": "mrLbF-YpYJSk",
        "outputId": "cf5269d8-74b4-41dc-8b6a-7595f608a214"
      },
      "execution_count": 27,
      "outputs": [
        {
          "output_type": "stream",
          "name": "stdout",
          "text": [
            "(8,)\n"
          ]
        }
      ]
    },
    {
      "cell_type": "code",
      "source": [
        "# 自己結合や直積を使って上司の名前を表示しよう\n",
        "# Employee.ReportsTo に社員の上司の社員番号が書かれている\n",
        "# 社員番号はEmployee.EmployeeId\n",
        "\n",
        "# 自己結合の場合\n",
        "sql =  \"\"\"\\\n",
        "SELECT a.FirstName, a.LastName, \"=>\", b.FirstName, b.LastName\n",
        "FROM Employee a\n",
        "  INNER JOIN Employee b\n",
        "    ON a.ReportsTo = b.EmployeeId\n",
        ";\n",
        "\"\"\"\n",
        "\n",
        "# 直積の場合\n",
        "sql =  \"\"\"\\\n",
        "SELECT a.FirstName, a.LastName, \"=>\", b.FirstName, b.LastName\n",
        "FROM Employee a, Employee b\n",
        "WHERE a.ReportsTo = b.EmployeeId\n",
        ";\n",
        "\"\"\"\n",
        "\n",
        "cur = conn.cursor()\n",
        "cur.execute(sql)\n",
        "\n",
        "for row in cur:\n",
        "  print(row)"
      ],
      "metadata": {
        "colab": {
          "base_uri": "https://localhost:8080/"
        },
        "id": "ckJvCnBaYpHC",
        "outputId": "3419d918-b8d4-420b-c119-67eb0de38278"
      },
      "execution_count": 28,
      "outputs": [
        {
          "output_type": "stream",
          "name": "stdout",
          "text": [
            "('Nancy', 'Edwards', '=>', 'Andrew', 'Adams')\n",
            "('Jane', 'Peacock', '=>', 'Nancy', 'Edwards')\n",
            "('Margaret', 'Park', '=>', 'Nancy', 'Edwards')\n",
            "('Steve', 'Johnson', '=>', 'Nancy', 'Edwards')\n",
            "('Michael', 'Mitchell', '=>', 'Andrew', 'Adams')\n",
            "('Robert', 'King', '=>', 'Michael', 'Mitchell')\n",
            "('Laura', 'Callahan', '=>', 'Michael', 'Mitchell')\n"
          ]
        }
      ]
    },
    {
      "cell_type": "code",
      "source": [
        "# データの作り方いろいろ\n",
        "# SELECTの結果をテーブルに保存したい\n",
        "\n",
        "# CTAS(CREATE TABLE AS SELECT)パターン\n",
        "# select count(*) from Employee の結果を tmp_sel_ins テーブルに保存\n",
        "sql =  \"\"\"\\\n",
        "CREATE TABLE IF NOT EXISTS tmp_sel_ins\n",
        "AS\n",
        "select count(*) from Employee\n",
        ";\n",
        "\"\"\"\n",
        "cur = conn.cursor()\n",
        "cur.execute(sql)\n",
        "conn.commit()\n",
        "\n",
        "sql =  \"\"\"\\\n",
        "select * from tmp_sel_ins\n",
        ";\n",
        "\"\"\"\n",
        "cur = conn.cursor()\n",
        "cur.execute(sql)\n",
        "for row in cur:\n",
        "  print(row)\n"
      ],
      "metadata": {
        "colab": {
          "base_uri": "https://localhost:8080/"
        },
        "id": "xAh3Qp8uxtnK",
        "outputId": "3aada662-b79e-4a26-abbf-fbea2be61905"
      },
      "execution_count": 30,
      "outputs": [
        {
          "output_type": "stream",
          "name": "stdout",
          "text": [
            "(8,)\n"
          ]
        }
      ]
    },
    {
      "cell_type": "code",
      "source": [
        "# SELECT INSERTパターン\n",
        "# もしまだテーブルがなければCREATE TABLEを事前にしてください\n",
        "sql =  \"\"\"\\\n",
        "INSERT INTO tmp_sel_ins\n",
        "select count(*) from Employee\n",
        ";\n",
        "\"\"\"\n",
        "cur = conn.cursor()\n",
        "cur.execute(sql)\n",
        "conn.commit()\n",
        "\n",
        "sql =  \"\"\"\\\n",
        "select * from tmp_sel_ins\n",
        ";\n",
        "\"\"\"\n",
        "cur = conn.cursor()\n",
        "cur.execute(sql)\n",
        "for row in cur:\n",
        "  print(row)\n"
      ],
      "metadata": {
        "colab": {
          "base_uri": "https://localhost:8080/"
        },
        "id": "l2mie3wmy0I8",
        "outputId": "130fd12c-f559-4772-8666-4186d8a80506"
      },
      "execution_count": 32,
      "outputs": [
        {
          "output_type": "stream",
          "name": "stdout",
          "text": [
            "(8,)\n",
            "(8,)\n",
            "(8,)\n"
          ]
        }
      ]
    },
    {
      "cell_type": "code",
      "source": [
        "# おまけのお題\n",
        "# Invoice と InvoiceLine を使って、Invoiceごとの合計金額を10件だそう\n",
        "sql =  \"\"\"\\\n",
        "select Invoice.InvoiceId, sum(UnitPrice * Quantity) from Invoice\n",
        "JOIN InvoiceLine\n",
        "  ON Invoice.InvoiceId = InvoiceLine.InvoiceId\n",
        "GROUP BY Invoice.InvoiceId\n",
        "limit 10\n",
        ";\n",
        "\"\"\"\n",
        "cur = conn.cursor()\n",
        "cur.execute(sql)\n",
        "for row in cur:\n",
        "  print(row)\n"
      ],
      "metadata": {
        "colab": {
          "base_uri": "https://localhost:8080/"
        },
        "id": "SNVDecztgnHj",
        "outputId": "a87c732e-f104-4582-fe77-b3b8eb904f5c"
      },
      "execution_count": 33,
      "outputs": [
        {
          "output_type": "stream",
          "name": "stdout",
          "text": [
            "(1, 1.98)\n",
            "(2, 3.96)\n",
            "(3, 5.94)\n",
            "(4, 8.91)\n",
            "(5, 13.860000000000001)\n",
            "(6, 0.99)\n",
            "(7, 1.98)\n",
            "(8, 1.98)\n",
            "(9, 3.96)\n",
            "(10, 5.94)\n"
          ]
        }
      ]
    },
    {
      "cell_type": "code",
      "source": [
        "conn.close()"
      ],
      "metadata": {
        "id": "afUzO7GXH16l"
      },
      "execution_count": 40,
      "outputs": []
    },
    {
      "cell_type": "markdown",
      "source": [
        "# Appendix"
      ],
      "metadata": {
        "id": "-wr6MG3VTaTO"
      }
    },
    {
      "cell_type": "code",
      "source": [
        "# Reset AUTOINCREMENT\n",
        "sql =  \"\"\"\\\n",
        "DELETE FROM sqlite_sequence where name = 'testtable'\n",
        "\"\"\"\n",
        "\n",
        "cur = conn.cursor()\n",
        "cur.execute(sql)\n",
        "conn.commit()"
      ],
      "metadata": {
        "id": "mwduKJZATdc1"
      },
      "execution_count": null,
      "outputs": []
    }
  ]
}